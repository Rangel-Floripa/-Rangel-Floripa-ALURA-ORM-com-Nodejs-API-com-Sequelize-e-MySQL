{
  "nbformat": 4,
  "nbformat_minor": 0,
  "metadata": {
    "colab": {
      "provenance": [],
      "authorship_tag": "ABX9TyPdnDTknRJQJ6IBeFbot8ga",
      "include_colab_link": true
    },
    "kernelspec": {
      "name": "python3",
      "display_name": "Python 3"
    },
    "language_info": {
      "name": "python"
    }
  },
  "cells": [
    {
      "cell_type": "markdown",
      "metadata": {
        "id": "view-in-github",
        "colab_type": "text"
      },
      "source": [
        "<a href=\"https://colab.research.google.com/github/Rangel-Floripa/-Rangel-Floripa-ALURA-ORM-com-Nodejs-API-com-Sequelize-e-MySQL/blob/master/Untitled0.ipynb\" target=\"_parent\"><img src=\"https://colab.research.google.com/assets/colab-badge.svg\" alt=\"Open In Colab\"/></a>"
      ]
    },
    {
      "cell_type": "code",
      "execution_count": 2,
      "metadata": {
        "colab": {
          "base_uri": "https://localhost:8080/"
        },
        "id": "5py2Zxf5qKhg",
        "outputId": "7a1c9a55-5508-4141-f39f-9e0a215cabd7"
      },
      "outputs": [
        {
          "output_type": "stream",
          "name": "stdout",
          "text": [
            "*********************************\n",
            "Bem vindo ao jogo de Adivinhação!\n",
            "*********************************\n",
            "Digite o seu número: 42\n",
            "Você digitou:  42\n",
            "Você acertou!\n",
            "Fim do jogo\n"
          ]
        }
      ],
      "source": [
        "print(\"*********************************\")\n",
        "print(\"Bem vindo ao jogo de Adivinhação!\")\n",
        "print(\"*********************************\")\n",
        "\n",
        "numero_secreto = 42\n",
        "\n",
        "chute_str = input(\"Digite o seu número: \")\n",
        "print(\"Você digitou: \", chute_str)\n",
        "chute = int(chute_str)\n",
        "\n",
        "if (numero_secreto == chute):\n",
        "    print(\"Você acertou!\")\n",
        "else:\n",
        "    print(\"Você errou!\")\n",
        "\n",
        "print(\"Fim do jogo\")"
      ]
    }
  ]
}